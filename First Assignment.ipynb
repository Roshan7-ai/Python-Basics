{
 "cells": [
  {
   "cell_type": "markdown",
   "id": "bd23ee5c-b7c6-49d6-8add-96822118e3ab",
   "metadata": {},
   "source": [
    "# Question 1"
   ]
  },
  {
   "cell_type": "markdown",
   "id": "85338a93-155c-40b1-8eab-cbc86b121d31",
   "metadata": {},
   "source": [
    "## Explain the key features of Python that make it a popular choice for programming."
   ]
  },
  {
   "cell_type": "raw",
   "id": "6af68973-eefe-4419-9075-658f2be553b6",
   "metadata": {},
   "source": [
    "Point 1 >> Python is a programming language that is easy to understand and write, making it an ideal language for beginners and also making it a popular choice among developers and programmers.\n"
   ]
  },
  {
   "cell_type": "code",
   "execution_count": 8,
   "id": "4af9c909-53a0-4a70-bcfb-feca19a37de4",
   "metadata": {},
   "outputs": [
    {
     "name": "stdout",
     "output_type": "stream",
     "text": [
      "Hello World\n"
     ]
    }
   ],
   "source": [
    "#Example for Point 1\n",
    "\n",
    "print(\"Hello World\") #Output will be Hello World."
   ]
  },
  {
   "cell_type": "raw",
   "id": "37f5c983-4dd8-44e7-817e-9500e98cfd18",
   "metadata": {},
   "source": [
    "Point 2 >> Python does not require a user to declare the type of variable.The type is determined at runtime."
   ]
  },
  {
   "cell_type": "code",
   "execution_count": 7,
   "id": "0842be04-3808-427a-a259-41708af0348d",
   "metadata": {},
   "outputs": [
    {
     "name": "stdout",
     "output_type": "stream",
     "text": [
      "Pwskills\n"
     ]
    }
   ],
   "source": [
    "#Example for Point 2\n",
    "\n",
    "a=10         # a is nan integer\n",
    "a=\"Pwskills\" # Now a is a string\n",
    "print(a)     # Output will be Pwskills"
   ]
  },
  {
   "cell_type": "raw",
   "id": "3764911c-7530-4186-8741-ce746aba689b",
   "metadata": {},
   "source": [
    "Point 3 >> Python is executed line by line which makes debgging easier and quicker."
   ]
  },
  {
   "cell_type": "code",
   "execution_count": 6,
   "id": "85b53ce3-3f4b-42f3-bbd9-86543af5a345",
   "metadata": {},
   "outputs": [
    {
     "name": "stdout",
     "output_type": "stream",
     "text": [
      "30\n"
     ]
    }
   ],
   "source": [
    "#Example for Point 3\n",
    "\n",
    "a=10\n",
    "b=20\n",
    "print(a+b) #Output will be 30"
   ]
  },
  {
   "cell_type": "raw",
   "id": "ca23dfbc-9974-4e68-bfae-d37a379fd28a",
   "metadata": {},
   "source": [
    "Ponit 4 >> Python is compatible with various programming paradigms, such as procedural, object-oriented, and functional programming."
   ]
  },
  {
   "cell_type": "raw",
   "id": "a0f2ee22-7b46-477b-841e-b9acb8efc3af",
   "metadata": {},
   "source": [
    "Point 5 >> Python is platform-independent, which means that the same Python code can run on various operating systems like Windows, macOS, and Linux without any modification."
   ]
  },
  {
   "cell_type": "code",
   "execution_count": 11,
   "id": "0824c1ec-59d2-4e68-978d-d0f9669a7c84",
   "metadata": {},
   "outputs": [
    {
     "name": "stdout",
     "output_type": "stream",
     "text": [
      "This code is platform-independent!\n"
     ]
    }
   ],
   "source": [
    "#Example for Point 5\n",
    "\n",
    "print(\"This code is platform-independent!\") # This code will run on any operating system."
   ]
  },
  {
   "cell_type": "raw",
   "id": "0b295d36-ddab-4b88-a23b-7e07d97ddf74",
   "metadata": {},
   "source": [
    "Point 6 >> Python is used in various domains such as web development, data science, machine learning, automation, and more, making it a versatile choice for many types of projects."
   ]
  },
  {
   "cell_type": "code",
   "execution_count": 22,
   "id": "06902621-29af-4ee0-a821-5630fef2ebd5",
   "metadata": {},
   "outputs": [
    {
     "name": "stdout",
     "output_type": "stream",
     "text": [
      "Task 0 completed!\n",
      "Task 1 completed!\n",
      "Task 2 completed!\n",
      "Task 3 completed!\n",
      "Task 4 completed!\n"
     ]
    }
   ],
   "source": [
    "#Example for Point 6 : Automating a simple task\n",
    "\n",
    "for i in range(5):\n",
    "    print(\"Task\",i,\"completed!\")"
   ]
  },
  {
   "cell_type": "raw",
   "id": "f6a2b6b5-0ea9-4563-b7df-da5873217e8c",
   "metadata": {},
   "source": [
    "Point 7 >> Python can be used in interactive mode, allowing for quick testing and experimentation.It can also be integrated with other languages like C,C++ and JAVA providing flexibility in large projects."
   ]
  },
  {
   "cell_type": "code",
   "execution_count": 24,
   "id": "13f44721-4ba4-4e61-9d79-0e2dab3b19f1",
   "metadata": {},
   "outputs": [
    {
     "data": {
      "text/plain": [
       "4"
      ]
     },
     "execution_count": 24,
     "metadata": {},
     "output_type": "execute_result"
    }
   ],
   "source": [
    "#Example for Point 7 : Running python interactively\n",
    "\n",
    "2+2"
   ]
  },
  {
   "cell_type": "raw",
   "id": "f1fcd973-4d24-48f2-a5fe-4bf8b959e7fd",
   "metadata": {},
   "source": [
    "Point 8 >> Python has a large and active community of developers,an extensive standard library and third-party packages for various domains."
   ]
  },
  {
   "cell_type": "code",
   "execution_count": 26,
   "id": "57834ac3-e8bb-4a38-8c09-e8ebc29e8ccf",
   "metadata": {},
   "outputs": [
    {
     "name": "stdout",
     "output_type": "stream",
     "text": [
      "4.0\n"
     ]
    }
   ],
   "source": [
    "#Example for Point 8 : Extensive standard library\n",
    "\n",
    "import math\n",
    "print(math.sqrt(16))"
   ]
  },
  {
   "cell_type": "markdown",
   "id": "e515c3d0-da38-44bc-a794-fe756fd6ee67",
   "metadata": {},
   "source": [
    "# Question 2"
   ]
  },
  {
   "cell_type": "markdown",
   "id": "ef70baf5-be88-41c7-b6ad-de5650f68eab",
   "metadata": {},
   "source": [
    "## Describe the role of predefined keywords in Python and provide examples of how they are used in a program."
   ]
  },
  {
   "cell_type": "raw",
   "id": "5ca8a4bd-466a-4768-82bc-8b9821c1eb6f",
   "metadata": {},
   "source": [
    ">> In Python,predefined keywords are reserved words that have special meaning in the language and cannot be used as identifiers(variable names , function names etc).\n",
    "\n",
    ">> Keywords in Python are case sensitive and cannot be redefinedor overridden within a Python program.\n",
    "\n",
    ">> Examples of keywords include if,else,while,for,def,class,import,try,except,return,true,false,none etc."
   ]
  },
  {
   "cell_type": "markdown",
   "id": "4f3dddc1-6a8b-40cc-9416-ae0899134887",
   "metadata": {},
   "source": [
    "### Role of Pre-defined Keywords"
   ]
  },
  {
   "cell_type": "raw",
   "id": "40487424-308e-4da6-a475-9fde15dc0880",
   "metadata": {},
   "source": [
    ">> Control Flow: Keywords like if, else, elif, while, for, break, continue, and return control the flow of execution in a program."
   ]
  },
  {
   "cell_type": "code",
   "execution_count": 38,
   "id": "206e2910-5fe1-4076-b913-e57ca70dbc9f",
   "metadata": {},
   "outputs": [
    {
     "name": "stdout",
     "output_type": "stream",
     "text": [
      "Positive\n"
     ]
    }
   ],
   "source": [
    "#Example 1: Control flow (if,elif,else)\n",
    "\n",
    "a=10\n",
    "if a>0:\n",
    "    print(\"Positive\")\n",
    "elif a<0:\n",
    "    print(\"Negative\")\n",
    "else:\n",
    "    print(\"Zero\") # The Output will be Positive,Because the value of a is 10."
   ]
  },
  {
   "cell_type": "code",
   "execution_count": 46,
   "id": "1b697e20-6bdf-4860-be33-f991f51bf160",
   "metadata": {},
   "outputs": [
    {
     "name": "stdout",
     "output_type": "stream",
     "text": [
      "0\n",
      "1\n",
      "2\n",
      "3\n",
      "4\n"
     ]
    }
   ],
   "source": [
    "#Example 2: Control flow (for,break)\n",
    "\n",
    "for i in range(10):\n",
    "    if i==5:\n",
    "        break #This condition will exit the loop when i is equal to 5.\n",
    "    print(i)"
   ]
  },
  {
   "cell_type": "code",
   "execution_count": 45,
   "id": "fa1042d5-5d45-434e-8a4e-3930a083894d",
   "metadata": {},
   "outputs": [
    {
     "name": "stdout",
     "output_type": "stream",
     "text": [
      "1\n",
      "3\n",
      "5\n",
      "7\n",
      "9\n"
     ]
    }
   ],
   "source": [
    "#Example 3 : Control flow (Continue)\n",
    "\n",
    "for i in range(10):\n",
    "    if i%2==0:\n",
    "        continue #This condition will skip rest of the loop body for even numbers.\n",
    "    print(i)     #Only print odd numbers"
   ]
  },
  {
   "cell_type": "code",
   "execution_count": 3,
   "id": "7a0b8457-62ad-488c-a292-12e166053329",
   "metadata": {},
   "outputs": [
    {
     "name": "stdout",
     "output_type": "stream",
     "text": [
      "0\n",
      "1\n",
      "2\n",
      "3\n",
      "4\n"
     ]
    }
   ],
   "source": [
    "#Example 4 : Control flow (while)\n",
    "\n",
    "count=0\n",
    "while count<5:\n",
    "    print(count)\n",
    "    count+=1"
   ]
  },
  {
   "cell_type": "raw",
   "id": "29ce0270-782e-4af6-ae81-f51f8b45c057",
   "metadata": {},
   "source": [
    ">> Data Definition: Keywords such as class, def, lambda, import, and as are used to define classes, functions, and modules."
   ]
  },
  {
   "cell_type": "code",
   "execution_count": 14,
   "id": "d8d9c4c8-edca-409d-a9b6-11431a6aebfd",
   "metadata": {},
   "outputs": [
    {
     "name": "stdout",
     "output_type": "stream",
     "text": [
      "4.0\n"
     ]
    }
   ],
   "source": [
    "#Example 1 : Data defination (import)\n",
    "\n",
    "import math\n",
    "print(math.sqrt(16))"
   ]
  },
  {
   "cell_type": "code",
   "execution_count": 15,
   "id": "f193a1fe-b9d3-4d2f-a853-e1dd8e2d5b70",
   "metadata": {},
   "outputs": [
    {
     "name": "stdout",
     "output_type": "stream",
     "text": [
      "10\n"
     ]
    }
   ],
   "source": [
    "#Example 2 : Data defination (def,return)\n",
    "\n",
    "def add(a,b):\n",
    "    return a+b\n",
    "result=add(5,5)\n",
    "print(result)"
   ]
  },
  {
   "cell_type": "raw",
   "id": "db398cbb-d16a-43e0-91cd-d9667a70a8cb",
   "metadata": {},
   "source": [
    ">> Error Handling: Keywords like try, except, finally, raise, and assert are used to handle exceptions and errors in the code."
   ]
  },
  {
   "cell_type": "code",
   "execution_count": 20,
   "id": "bfdc55ac-2cdd-4b1c-b535-3bb4abde2ac2",
   "metadata": {},
   "outputs": [
    {
     "name": "stdout",
     "output_type": "stream",
     "text": [
      "Cannot divide by zero\n",
      "This block always runs\n"
     ]
    }
   ],
   "source": [
    "#Example 1 : Error Handling (try,except,finally)\n",
    "\n",
    "try:\n",
    "    result = 10 / 0\n",
    "except ZeroDivisionError:\n",
    "    print(\"Cannot divide by zero\")\n",
    "finally:\n",
    "    print(\"This block always runs\")"
   ]
  },
  {
   "cell_type": "raw",
   "id": "27a7a8df-51f6-44d5-b2f6-c897fcd2f1d5",
   "metadata": {},
   "source": [
    ">> Boolean Operations: Keywords like True, False, and, or, not, is, and in are used in logical operations."
   ]
  },
  {
   "cell_type": "code",
   "execution_count": 32,
   "id": "10283d4c-1f94-4d3c-9d15-96e20a6281e9",
   "metadata": {},
   "outputs": [
    {
     "name": "stdout",
     "output_type": "stream",
     "text": [
      "False\n"
     ]
    }
   ],
   "source": [
    "#Example 1 : Boolean operations (and)\n",
    "\n",
    "a = True\n",
    "b = False\n",
    "result = a and b  # and Operator: Returns True if both conditions are True\n",
    "print(result)     # output: False"
   ]
  },
  {
   "cell_type": "code",
   "execution_count": 37,
   "id": "ac06fa6e-c5ab-4ee2-9b99-387a4ca3e3b1",
   "metadata": {},
   "outputs": [
    {
     "name": "stdout",
     "output_type": "stream",
     "text": [
      "True\n"
     ]
    }
   ],
   "source": [
    "#Example 2 : Boolean operations (or)\n",
    "\n",
    "a = True\n",
    "b = False\n",
    "result = a or b  # or Operator: Returns True if at least one of the conditions is True\n",
    "print(result)    # output: True"
   ]
  },
  {
   "cell_type": "code",
   "execution_count": 34,
   "id": "9b5d2cb5-e28d-4179-a81f-98e52dfc448a",
   "metadata": {},
   "outputs": [
    {
     "name": "stdout",
     "output_type": "stream",
     "text": [
      "False\n"
     ]
    }
   ],
   "source": [
    "#Example 3 : Boolean operations (not)\n",
    "\n",
    "a = True\n",
    "result = not a  # not Operator: Returns True if the condition is False, and False if the condition is True\n",
    "print(result)   # Output: False"
   ]
  },
  {
   "cell_type": "raw",
   "id": "41cbbbd3-2c2c-4096-9110-01f702c713c1",
   "metadata": {},
   "source": [
    ">> Memory Management: Keywords such as None, which represents a null value, are used for memory management."
   ]
  },
  {
   "cell_type": "code",
   "execution_count": 36,
   "id": "6a0ee226-26ee-4e0b-b134-c99dee58645c",
   "metadata": {},
   "outputs": [
    {
     "name": "stdout",
     "output_type": "stream",
     "text": [
      "a is None\n"
     ]
    }
   ],
   "source": [
    "#Example : Memory management (None)\n",
    "\n",
    "a = None\n",
    "if a is None:\n",
    "    print(\"a is None\")"
   ]
  },
  {
   "cell_type": "markdown",
   "id": "b7c9ee42-6b29-4898-92f4-11184cbc2dac",
   "metadata": {},
   "source": [
    "# Question 3"
   ]
  },
  {
   "cell_type": "markdown",
   "id": "c4db9205-ec2e-40cf-ad2e-8f3d0aaa115d",
   "metadata": {},
   "source": [
    "## Compare and contrast mutable and immutable objects in Python with examples."
   ]
  },
  {
   "cell_type": "raw",
   "id": "a88ab775-9db3-4b00-bd31-f9ecb624a579",
   "metadata": {},
   "source": [
    ">> In Python, objects are classified as either mutable or immutable based on whether their state can be changed after the object is created."
   ]
  },
  {
   "cell_type": "markdown",
   "id": "9429670e-5e8e-402c-8bac-ed20e46d20a4",
   "metadata": {},
   "source": [
    "### Mutable Objects"
   ]
  },
  {
   "cell_type": "raw",
   "id": "4497ba4d-686d-4876-ba4a-f0fbe04abcc7",
   "metadata": {},
   "source": [
    ">> Mutable objects are those whose state or contents can be modified after they are created.\n",
    "\n",
    ">> Mutable objects are more flexible but can lead to issues like unexpected changes and is generally less memory-efficient.\n",
    "\n",
    ">> Mutable objects are useful when you need to store a collection of data that will change over time, such as building up a list of results."
   ]
  },
  {
   "cell_type": "markdown",
   "id": "5afa3cce-b50a-4549-86f2-828aa34f876e",
   "metadata": {},
   "source": [
    "### Examples of Mutable Objects"
   ]
  },
  {
   "cell_type": "raw",
   "id": "3f2009ae-cb96-4da3-b600-456dbe539b17",
   "metadata": {},
   "source": [
    ">> Lists\n",
    ">> Dictionaries\n",
    ">> Sets"
   ]
  },
  {
   "cell_type": "markdown",
   "id": "b39f5750-045e-4ea9-990d-c796fdf07c18",
   "metadata": {},
   "source": [
    "### Characteristics of Mutable Objects"
   ]
  },
  {
   "cell_type": "raw",
   "id": "7926cffe-e751-45ba-810c-bb760d39bceb",
   "metadata": {},
   "source": [
    ">> Modification: You can modify the object in place, which means you can change, add, or remove elements.\n",
    "\n",
    ">> Memory: Operations that modify a mutable object don't create a new object; they modify the existing one.\n",
    "\n",
    ">> Methods: Mutable objects often have methods that allow direct modification (Example - append, remove, update)."
   ]
  },
  {
   "cell_type": "markdown",
   "id": "fdc08844-b4a2-40f1-8960-d54df32d8e9f",
   "metadata": {},
   "source": [
    "### Programming example of Mutable Objects"
   ]
  },
  {
   "cell_type": "code",
   "execution_count": 49,
   "id": "c056b145-457f-4e3a-9ec3-238ce5a76685",
   "metadata": {},
   "outputs": [
    {
     "name": "stdout",
     "output_type": "stream",
     "text": [
      "[1, 2, 3]\n",
      "[1, 2, 3, 4]\n"
     ]
    }
   ],
   "source": [
    "my_list = [1, 2, 3] #Lists are mutable\n",
    "print(my_list)      # Output: [1, 2, 3]\n",
    "\n",
    "my_list.append(4)   # Modifying the list\n",
    "print(my_list)      # Output: [1, 2, 3, 4]"
   ]
  },
  {
   "cell_type": "markdown",
   "id": "7cf1ea1e-9731-4ced-944b-91b4eaadd08d",
   "metadata": {},
   "source": [
    "### Immutable Objects"
   ]
  },
  {
   "cell_type": "raw",
   "id": "0c65fc35-4c85-46c5-8bf8-fcba92356ebb",
   "metadata": {},
   "source": [
    ">> Immutable objects are those whose state or contents cannot be modified after they are created.\n",
    "\n",
    ">> Immutable objects are more memory-efficient and safer in contexts like concurrent programming because they cannot be altered.\n",
    "\n",
    ">> Immutable objects useful when the data should not change after creation, such as storing constants or data that will be shared across threads."
   ]
  },
  {
   "cell_type": "markdown",
   "id": "7701daa0-a31f-4b99-8a7b-82e3957fa66e",
   "metadata": {},
   "source": [
    "### Examples of Immutable Objects"
   ]
  },
  {
   "cell_type": "raw",
   "id": "9f95598d-c1b3-48e3-b7db-8a2e1a6cc570",
   "metadata": {},
   "source": [
    ">> Tuples\n",
    ">> Strings\n",
    ">> Integers\n",
    ">> Floats\n",
    ">> Booleans"
   ]
  },
  {
   "cell_type": "markdown",
   "id": "6c45b768-5bcd-46b4-8a78-0bb0904648b3",
   "metadata": {},
   "source": [
    "### Characteristics of Mutable Objects"
   ]
  },
  {
   "cell_type": "raw",
   "id": "c912c13d-c3d7-4955-9624-8ee3683808bd",
   "metadata": {},
   "source": [
    ">> No Modification: Any operation that seems to modify an immutable object actually creates a new object.\n",
    "\n",
    ">> Memory: Since they can't be modified, they are often stored in memory more efficiently and can be reused.\n",
    "\n",
    ">> Methods: Immutable objects don't have methods that modify the object in place; instead, operations return a new object."
   ]
  },
  {
   "cell_type": "markdown",
   "id": "624a867c-0722-4c01-b168-f4fefee7ccf8",
   "metadata": {},
   "source": [
    "### Programming example of Immutable Objects"
   ]
  },
  {
   "cell_type": "code",
   "execution_count": 52,
   "id": "b3add6d8-833c-465f-9ebc-57526b43ad57",
   "metadata": {},
   "outputs": [
    {
     "name": "stdout",
     "output_type": "stream",
     "text": [
      "hello\n",
      "hello world\n",
      "hello\n"
     ]
    }
   ],
   "source": [
    "my_string = \"hello\" # Strings are immutable\n",
    "print(my_string)    # Output: \"hello\"\n",
    "\n",
    "\n",
    "new_string = my_string + \" world\"# Attempting to modify the string creates a new one\n",
    "print(new_string)   # Output: \"hello world\"\n",
    "print(my_string)    # Output: \"hello\" (original string remains unchanged)"
   ]
  },
  {
   "cell_type": "markdown",
   "id": "9b7992fe-435f-43d9-9a44-0462285a6b03",
   "metadata": {},
   "source": [
    "# Question 4"
   ]
  },
  {
   "cell_type": "markdown",
   "id": "b7ba7e1d-4f9a-448f-8930-a5b12a35e82c",
   "metadata": {},
   "source": [
    "## Discuss the different types of operators in Python and provide examples of how they are used."
   ]
  },
  {
   "cell_type": "raw",
   "id": "b1d986a4-3df9-4fe8-b992-6a946b70db84",
   "metadata": {},
   "source": [
    ">> Operators are special synbols or keywords that are used to perform various operations on variables and values in Python expressions.\n",
    "\n",
    ">> Python supports various types of operators including arithematic operator (+,-,*,/,%,//,**),comparison operator (==,!=,<,>),logical operator (and,or,not) etc."
   ]
  },
  {
   "cell_type": "markdown",
   "id": "f87cbb8f-d0ad-48ee-863b-91a94180dae0",
   "metadata": {},
   "source": [
    "## Different types of Operators in Python with examples:"
   ]
  },
  {
   "cell_type": "markdown",
   "id": "e366a2d6-9c6e-4436-b159-bb69a2321720",
   "metadata": {},
   "source": [
    "### 1 >> Arithematic Operator - Arithematic operators are used to perform basic mathematical operations."
   ]
  },
  {
   "cell_type": "raw",
   "id": "0b02cd0d-627c-4806-83d3-85ecc621f47c",
   "metadata": {},
   "source": [
    "> Addition (+)"
   ]
  },
  {
   "cell_type": "code",
   "execution_count": 18,
   "id": "df545848-6a1b-4e68-91c2-f50980785bc1",
   "metadata": {},
   "outputs": [
    {
     "name": "stdout",
     "output_type": "stream",
     "text": [
      "8\n"
     ]
    }
   ],
   "source": [
    "#Example of addition\n",
    "\n",
    "a=5\n",
    "b=3\n",
    "result=a+b   # result is 8\n",
    "print(result) "
   ]
  },
  {
   "cell_type": "raw",
   "id": "f422bc86-6c00-4c5a-a1d5-5abb6848a37a",
   "metadata": {},
   "source": [
    "> Subtraction (-)"
   ]
  },
  {
   "cell_type": "code",
   "execution_count": 138,
   "id": "94c0c6a8-61da-4b74-92f9-1e674a83a686",
   "metadata": {},
   "outputs": [
    {
     "name": "stdout",
     "output_type": "stream",
     "text": [
      "2\n"
     ]
    }
   ],
   "source": [
    "#Example of subtraction\n",
    "\n",
    "a=5\n",
    "b=3\n",
    "result=a-b   # result is 2\n",
    "print(result)"
   ]
  },
  {
   "cell_type": "raw",
   "id": "498898e5-88f9-4816-ba04-df2af138e759",
   "metadata": {},
   "source": [
    "> Multiplication (*)"
   ]
  },
  {
   "cell_type": "code",
   "execution_count": 21,
   "id": "d124ef09-7a69-4321-91fd-bc4309d3b02c",
   "metadata": {},
   "outputs": [
    {
     "name": "stdout",
     "output_type": "stream",
     "text": [
      "15\n"
     ]
    }
   ],
   "source": [
    "#Example of multiplication\n",
    "\n",
    "a=5\n",
    "b=3\n",
    "result=a*b   # result is 15\n",
    "print(result)"
   ]
  },
  {
   "cell_type": "raw",
   "id": "bbdbf892-9859-4a9d-b059-9790e41c3393",
   "metadata": {},
   "source": [
    "> Division (/)"
   ]
  },
  {
   "cell_type": "code",
   "execution_count": 22,
   "id": "57cbe98b-392e-42de-afbd-964ab9b7c980",
   "metadata": {},
   "outputs": [
    {
     "name": "stdout",
     "output_type": "stream",
     "text": [
      "2.0\n"
     ]
    }
   ],
   "source": [
    "#Example of division\n",
    "\n",
    "a=6\n",
    "b=3\n",
    "result=a/b   # result is 2\n",
    "print(result)"
   ]
  },
  {
   "cell_type": "raw",
   "id": "5a8ebf1a-2de4-4b7f-b85b-be12339d2f2a",
   "metadata": {},
   "source": [
    "> Floor Division (//)"
   ]
  },
  {
   "cell_type": "code",
   "execution_count": 28,
   "id": "838228b3-f3bf-4ef2-bed6-2d40de2a3e02",
   "metadata": {},
   "outputs": [
    {
     "name": "stdout",
     "output_type": "stream",
     "text": [
      "2\n"
     ]
    }
   ],
   "source": [
    "#Example of floor division\n",
    "\n",
    "a=6\n",
    "b=3\n",
    "result=a//b   # result is 2\n",
    "print(result)"
   ]
  },
  {
   "cell_type": "raw",
   "id": "0ae26eb9-8471-4ef4-8123-d36fc59e3c0b",
   "metadata": {},
   "source": [
    "> Modulus (%)"
   ]
  },
  {
   "cell_type": "code",
   "execution_count": 33,
   "id": "3206ba16-866a-43ff-8d84-470703ca91ea",
   "metadata": {},
   "outputs": [
    {
     "name": "stdout",
     "output_type": "stream",
     "text": [
      "1\n"
     ]
    }
   ],
   "source": [
    "#Example of modulus\n",
    "\n",
    "a=7\n",
    "b=3\n",
    "result=a%b   # result is 1\n",
    "print(result)"
   ]
  },
  {
   "cell_type": "raw",
   "id": "8fedb797-b2c1-4443-97c6-b2f07a1e68a6",
   "metadata": {},
   "source": [
    "> Exponentiation (**)"
   ]
  },
  {
   "cell_type": "code",
   "execution_count": 137,
   "id": "d58844c7-1e5f-4055-8bc6-77bf8197e6f0",
   "metadata": {},
   "outputs": [
    {
     "name": "stdout",
     "output_type": "stream",
     "text": [
      "27\n"
     ]
    }
   ],
   "source": [
    "#Example of exponentation\n",
    "\n",
    "a=3\n",
    "b=3\n",
    "result=a**b   # result is 27\n",
    "print(result)"
   ]
  },
  {
   "cell_type": "markdown",
   "id": "4378567b-7e94-4b70-8df5-31c3d66db75b",
   "metadata": {},
   "source": [
    "### 2 >> Comparison Operators - Comparison operators are used to compare two values."
   ]
  },
  {
   "cell_type": "raw",
   "id": "10fbefc2-60b4-40dc-94b9-e4f07241d7c3",
   "metadata": {},
   "source": [
    "> Equal (==)"
   ]
  },
  {
   "cell_type": "code",
   "execution_count": 106,
   "id": "d23a0b1f-0eb8-43eb-bcf0-4e9bd3141197",
   "metadata": {},
   "outputs": [
    {
     "name": "stdout",
     "output_type": "stream",
     "text": [
      "False\n"
     ]
    }
   ],
   "source": [
    "#Example of Equal\n",
    "\n",
    "a = 5\n",
    "b = 3\n",
    "result=(a==b)  # result is False\n",
    "print(result)"
   ]
  },
  {
   "cell_type": "raw",
   "id": "14ae384a-13af-486f-a25b-73e6f832f56a",
   "metadata": {},
   "source": [
    "> Not Equal (!=)"
   ]
  },
  {
   "cell_type": "code",
   "execution_count": 107,
   "id": "14021a91-fe6b-4c67-9dca-0b13ad44d4ba",
   "metadata": {},
   "outputs": [
    {
     "name": "stdout",
     "output_type": "stream",
     "text": [
      "True\n"
     ]
    }
   ],
   "source": [
    "#Example of Not Equal\n",
    "\n",
    "a = 5\n",
    "b = 3\n",
    "result=(a!=b)  # result is True\n",
    "print(result)"
   ]
  },
  {
   "cell_type": "raw",
   "id": "5877133e-27ba-4338-82ce-4e737a35dcba",
   "metadata": {},
   "source": [
    "> Greater Than (>)"
   ]
  },
  {
   "cell_type": "code",
   "execution_count": 108,
   "id": "10ded59a-fad0-4de0-ae44-74ded60b704f",
   "metadata": {},
   "outputs": [
    {
     "name": "stdout",
     "output_type": "stream",
     "text": [
      "True\n"
     ]
    }
   ],
   "source": [
    "#Example of Greater than\n",
    "\n",
    "a = 5\n",
    "b = 3\n",
    "result=(a>b)  # result is True\n",
    "print(result)"
   ]
  },
  {
   "cell_type": "raw",
   "id": "98ee5a8d-9258-435a-a221-3794cced3490",
   "metadata": {},
   "source": [
    "> Less Than (<)"
   ]
  },
  {
   "cell_type": "code",
   "execution_count": 110,
   "id": "a95c0314-67e2-46bb-b0eb-7971d3752be2",
   "metadata": {},
   "outputs": [
    {
     "name": "stdout",
     "output_type": "stream",
     "text": [
      "False\n"
     ]
    }
   ],
   "source": [
    "#Example of Less than\n",
    "\n",
    "a = 5\n",
    "b = 3\n",
    "result=(a<b)  # result is False\n",
    "print(result)"
   ]
  },
  {
   "cell_type": "raw",
   "id": "7d3d5faf-e33e-4ffe-b7eb-f31f214e72a6",
   "metadata": {},
   "source": [
    "> Greater Than or Equal To (>=)"
   ]
  },
  {
   "cell_type": "code",
   "execution_count": 111,
   "id": "52f9c743-011f-4069-927c-c2f5c386c064",
   "metadata": {},
   "outputs": [
    {
     "name": "stdout",
     "output_type": "stream",
     "text": [
      "True\n"
     ]
    }
   ],
   "source": [
    "#Example of Greater than or equal to\n",
    "\n",
    "a = 5\n",
    "b = 3\n",
    "result=(a>=b)  # result is True\n",
    "print(result)"
   ]
  },
  {
   "cell_type": "raw",
   "id": "6c50f915-b95a-41a5-aa14-bf22cffc2563",
   "metadata": {},
   "source": [
    "> Less Than or Equal To (<=)"
   ]
  },
  {
   "cell_type": "code",
   "execution_count": 112,
   "id": "baf09782-9f4b-483c-98d4-c8075e3c8252",
   "metadata": {},
   "outputs": [
    {
     "name": "stdout",
     "output_type": "stream",
     "text": [
      "False\n"
     ]
    }
   ],
   "source": [
    "#Example of Less than or equal to\n",
    "\n",
    "a = 5\n",
    "b = 3\n",
    "result=(a<=b)  # result is False\n",
    "print(result)"
   ]
  },
  {
   "cell_type": "markdown",
   "id": "b9d03cf4-a2fb-4514-bfcd-ea4baab3ad24",
   "metadata": {},
   "source": [
    "### 3 >> Logical Operators - Logical operators are used to combine conditional statements."
   ]
  },
  {
   "cell_type": "raw",
   "id": "8986a1f7-8b95-4312-8d61-e3cdc5f32bd7",
   "metadata": {},
   "source": [
    "> AND (and)"
   ]
  },
  {
   "cell_type": "code",
   "execution_count": 114,
   "id": "11a60718-2ba5-4760-9992-8b16b4575724",
   "metadata": {},
   "outputs": [
    {
     "name": "stdout",
     "output_type": "stream",
     "text": [
      "False\n"
     ]
    }
   ],
   "source": [
    "#Example of AND\n",
    "\n",
    "a = True\n",
    "b = False\n",
    "result = a and b  # result is False\n",
    "print(result)"
   ]
  },
  {
   "cell_type": "raw",
   "id": "b3ccc2e0-372b-4ab5-bdd7-e603a23df22a",
   "metadata": {},
   "source": [
    "> OR (or)"
   ]
  },
  {
   "cell_type": "code",
   "execution_count": 116,
   "id": "7a89f859-8798-4468-811b-58855ecb387d",
   "metadata": {},
   "outputs": [
    {
     "name": "stdout",
     "output_type": "stream",
     "text": [
      "True\n"
     ]
    }
   ],
   "source": [
    "#Example of OR\n",
    "\n",
    "a = True\n",
    "b = False\n",
    "result = a or b  # result is True\n",
    "print(result)"
   ]
  },
  {
   "cell_type": "raw",
   "id": "cfb006f0-f0f8-484c-bf57-c24b417894d9",
   "metadata": {},
   "source": [
    "> NOT (not)"
   ]
  },
  {
   "cell_type": "code",
   "execution_count": 117,
   "id": "fae035c2-f1be-4153-b399-bce45c0016bf",
   "metadata": {},
   "outputs": [
    {
     "name": "stdout",
     "output_type": "stream",
     "text": [
      "False\n"
     ]
    }
   ],
   "source": [
    "#Example of NOT\n",
    "\n",
    "a = True\n",
    "result = not a  # result is False\n",
    "print(result)"
   ]
  },
  {
   "cell_type": "markdown",
   "id": "4d53d09c-fbc1-4fcc-b25a-530756dc2e40",
   "metadata": {},
   "source": [
    "### 4 >> Assignment Operators - Assignment operators are used to assign values to variables."
   ]
  },
  {
   "cell_type": "raw",
   "id": "621fc7e4-9392-4e2e-beb1-fe02a76f7f53",
   "metadata": {},
   "source": [
    "> Assignment (=)"
   ]
  },
  {
   "cell_type": "code",
   "execution_count": 118,
   "id": "1819fd3d-e0ed-4f14-b1a3-6d816fa124bc",
   "metadata": {},
   "outputs": [
    {
     "name": "stdout",
     "output_type": "stream",
     "text": [
      "5\n"
     ]
    }
   ],
   "source": [
    "#Example of Assignment\n",
    "\n",
    "a = 5    # a is assigned the value 5\n",
    "print(a) # Output is 5"
   ]
  },
  {
   "cell_type": "raw",
   "id": "4afdb942-8a9e-40c7-97f4-0333cdbd28f3",
   "metadata": {},
   "source": [
    "> Add and Assign (+=)"
   ]
  },
  {
   "cell_type": "code",
   "execution_count": 119,
   "id": "279cc078-8c04-4301-b05a-6a7bafd3b69e",
   "metadata": {},
   "outputs": [
    {
     "name": "stdout",
     "output_type": "stream",
     "text": [
      "8\n"
     ]
    }
   ],
   "source": [
    "#Example of Add and assign\n",
    "\n",
    "a = 5\n",
    "a += 3   # It will add the value of a(which is 5) with 3 and store the result in a.\n",
    "print(a) # Output is 8"
   ]
  },
  {
   "cell_type": "raw",
   "id": "ec48d895-d64e-4088-a469-2e2d7a1378c1",
   "metadata": {},
   "source": [
    "> Subtract and Assign (-=)"
   ]
  },
  {
   "cell_type": "code",
   "execution_count": 120,
   "id": "def4004f-e879-472b-bd1c-2bdfeec27c4b",
   "metadata": {},
   "outputs": [
    {
     "name": "stdout",
     "output_type": "stream",
     "text": [
      "2\n"
     ]
    }
   ],
   "source": [
    "#Example of Subtract and assign\n",
    "\n",
    "a = 5\n",
    "a -= 3   # It will subtract the value of a(which is 5) with 3 and store the result in a.\n",
    "print(a) # Output is 2"
   ]
  },
  {
   "cell_type": "raw",
   "id": "88c4b8a2-d5a1-4e6f-8523-9d652b267597",
   "metadata": {},
   "source": [
    "> Multiply and Assign (*=)"
   ]
  },
  {
   "cell_type": "code",
   "execution_count": 122,
   "id": "be497ec6-2532-41cb-800f-e37809e538ff",
   "metadata": {},
   "outputs": [
    {
     "name": "stdout",
     "output_type": "stream",
     "text": [
      "15\n"
     ]
    }
   ],
   "source": [
    "#Example of Multiply and assign\n",
    "\n",
    "a = 5\n",
    "a *= 3   # It will multiply the value of a(which is 5) with 3 and store the result in a.\n",
    "print(a) # Output is 15"
   ]
  },
  {
   "cell_type": "raw",
   "id": "cb54994b-6a76-43ae-8690-20dca0fd9bfa",
   "metadata": {},
   "source": [
    "> Divide and Assign (/=)"
   ]
  },
  {
   "cell_type": "code",
   "execution_count": 123,
   "id": "8ea86a63-3fa5-4eab-96ca-1b914797eb07",
   "metadata": {},
   "outputs": [
    {
     "name": "stdout",
     "output_type": "stream",
     "text": [
      "2.0\n"
     ]
    }
   ],
   "source": [
    "#Example of Divide and assign\n",
    "\n",
    "a = 6\n",
    "a /= 3   # It will divide the value of a(which is 6) with 3 and store the result in a.\n",
    "print(a) # Output is 2"
   ]
  },
  {
   "cell_type": "raw",
   "id": "fdd5bb22-6c01-4f9b-85f9-1643fbc4a056",
   "metadata": {},
   "source": [
    "> Modulus and Assign (%=)"
   ]
  },
  {
   "cell_type": "code",
   "execution_count": 124,
   "id": "acf55b66-ad69-48cd-9617-344f07b5adeb",
   "metadata": {},
   "outputs": [
    {
     "name": "stdout",
     "output_type": "stream",
     "text": [
      "2\n"
     ]
    }
   ],
   "source": [
    "#Example of Modulud and assign\n",
    "\n",
    "a = 5\n",
    "a %= 3   # It will divide the value of a(which is 5) with 3 and store the remainder in a.\n",
    "print(a) # Output is 2"
   ]
  },
  {
   "cell_type": "raw",
   "id": "b9ce2a77-688e-4960-8646-170619a52f6e",
   "metadata": {},
   "source": [
    "> Exponent and Assign (**=)"
   ]
  },
  {
   "cell_type": "code",
   "execution_count": 125,
   "id": "9ec7c9b4-008b-47a6-9800-02a710cb522e",
   "metadata": {},
   "outputs": [
    {
     "name": "stdout",
     "output_type": "stream",
     "text": [
      "125\n"
     ]
    }
   ],
   "source": [
    "#Example of Exponent and Assign\n",
    "\n",
    "a = 5\n",
    "a **= 3   \n",
    "print(a) # Output is 125"
   ]
  },
  {
   "cell_type": "raw",
   "id": "6f202be3-6c39-404b-9c26-663b80475312",
   "metadata": {},
   "source": [
    "> Floor Division and Assign (//=)"
   ]
  },
  {
   "cell_type": "code",
   "execution_count": 126,
   "id": "6ca1a60f-a78d-4518-bdc5-f662aeeeb051",
   "metadata": {},
   "outputs": [
    {
     "name": "stdout",
     "output_type": "stream",
     "text": [
      "2\n"
     ]
    }
   ],
   "source": [
    "#Example of Division and Assign\n",
    "\n",
    "a = 6\n",
    "a //= 3   \n",
    "print(a) # Output is 2"
   ]
  },
  {
   "cell_type": "markdown",
   "id": "98a30245-7aa7-48e1-9d68-d2473d4cf000",
   "metadata": {},
   "source": [
    "### 5 >> Bitwise Operators - Bitwise operators operate on binary digits and perform bit-level operations."
   ]
  },
  {
   "cell_type": "raw",
   "id": "8b99b860-e91f-4050-84a8-1969b491898d",
   "metadata": {},
   "source": [
    "> AND (&)"
   ]
  },
  {
   "cell_type": "code",
   "execution_count": 127,
   "id": "e93ebbbf-70bb-43e2-8321-82cf283f1f29",
   "metadata": {},
   "outputs": [
    {
     "name": "stdout",
     "output_type": "stream",
     "text": [
      "1\n"
     ]
    }
   ],
   "source": [
    "#Example of bitwise AND\n",
    "\n",
    "a = 5  # 101 in binary\n",
    "b = 3  # 011 in binary\n",
    "result = a & b  # result is 1 (001 in binary)\n",
    "print(result)"
   ]
  },
  {
   "cell_type": "raw",
   "id": "692836e3-1a70-4728-9cf0-c12d97c2c1e5",
   "metadata": {},
   "source": [
    "> OR (|)"
   ]
  },
  {
   "cell_type": "code",
   "execution_count": 129,
   "id": "ace9ee6c-7e11-4524-9e62-a97404091b8a",
   "metadata": {},
   "outputs": [
    {
     "name": "stdout",
     "output_type": "stream",
     "text": [
      "7\n"
     ]
    }
   ],
   "source": [
    "#Example of bitwise OR\n",
    "\n",
    "a = 5  # 101 in binary\n",
    "b = 3  # 011 in binary\n",
    "result = a | b  # result is 7 (111 in binary)\n",
    "print(result)"
   ]
  },
  {
   "cell_type": "raw",
   "id": "4f96526b-179b-4ebf-8a79-cd9fd00969df",
   "metadata": {},
   "source": [
    "> XOR (^)"
   ]
  },
  {
   "cell_type": "code",
   "execution_count": 130,
   "id": "983bdb3d-72b8-4bed-991e-1501c56a1555",
   "metadata": {},
   "outputs": [
    {
     "name": "stdout",
     "output_type": "stream",
     "text": [
      "6\n"
     ]
    }
   ],
   "source": [
    "#Example of bitwise XOR\n",
    "\n",
    "a = 5  # 101 in binary\n",
    "b = 3  # 011 in binary\n",
    "result = a ^ b  # result is 6 (110 in binary)\n",
    "print(result)"
   ]
  },
  {
   "cell_type": "raw",
   "id": "2dddeaa0-b40c-4e22-b838-01a0e80a9264",
   "metadata": {},
   "source": [
    "> NOT (~)"
   ]
  },
  {
   "cell_type": "code",
   "execution_count": 140,
   "id": "4adbc265-80ce-4712-a1f4-a525a0ead889",
   "metadata": {},
   "outputs": [
    {
     "name": "stdout",
     "output_type": "stream",
     "text": [
      "-6\n"
     ]
    }
   ],
   "source": [
    "#Example of bitwise NOT\n",
    "\n",
    "a = 5  # 101 in binary\n",
    "result = ~a  # result is -6 (inverting bits)\n",
    "print(result)"
   ]
  },
  {
   "cell_type": "raw",
   "id": "d11b3e3d-fac1-457c-a829-681cfa9738a8",
   "metadata": {},
   "source": [
    "> Left Shift (<<)"
   ]
  },
  {
   "cell_type": "code",
   "execution_count": 131,
   "id": "6d444264-00bc-4ead-8439-69d46b25ac31",
   "metadata": {},
   "outputs": [
    {
     "name": "stdout",
     "output_type": "stream",
     "text": [
      "10\n"
     ]
    }
   ],
   "source": [
    "#Example of Left shift\n",
    "\n",
    "a = 5  # 101 in binary\n",
    "result = a << 1  # result is 10 (1010 in binary)\n",
    "print(result)"
   ]
  },
  {
   "cell_type": "raw",
   "id": "ae8d6a24-7780-4eb5-8f5b-36e9b0ca1a45",
   "metadata": {},
   "source": [
    "> Right Shift (>>)"
   ]
  },
  {
   "cell_type": "code",
   "execution_count": 132,
   "id": "890a527d-fd88-4583-b288-12fc453bc3e0",
   "metadata": {},
   "outputs": [
    {
     "name": "stdout",
     "output_type": "stream",
     "text": [
      "2\n"
     ]
    }
   ],
   "source": [
    "#Example of Right shift\n",
    "\n",
    "a = 5  # 101 in binary\n",
    "result = a >> 1  # result is 2 (10 in binary)\n",
    "print(result)"
   ]
  },
  {
   "cell_type": "markdown",
   "id": "a2d96a42-09d0-4f0a-b8dd-8a6e13f65c2f",
   "metadata": {},
   "source": [
    "### 6 >> Membership Operators - Membership operators are used to test if a sequence contains a specified value."
   ]
  },
  {
   "cell_type": "raw",
   "id": "6adcca3e-b269-402a-97e2-73349dba7674",
   "metadata": {},
   "source": [
    "> In (in)"
   ]
  },
  {
   "cell_type": "code",
   "execution_count": 133,
   "id": "7254cd00-8293-428a-8290-a476ef1c6ec6",
   "metadata": {},
   "outputs": [
    {
     "name": "stdout",
     "output_type": "stream",
     "text": [
      "True\n"
     ]
    }
   ],
   "source": [
    "#Example of IN\n",
    "\n",
    "a = [1, 2, 3, 4, 5]\n",
    "result = 3 in a  # result is True\n",
    "print(result)"
   ]
  },
  {
   "cell_type": "raw",
   "id": "9ab92bf4-3d1b-4aba-a494-8bebb2c0f9ee",
   "metadata": {},
   "source": [
    "> Not In (not in)"
   ]
  },
  {
   "cell_type": "code",
   "execution_count": 134,
   "id": "7fb53814-dca9-41c6-9e49-dff4b976b44f",
   "metadata": {},
   "outputs": [
    {
     "name": "stdout",
     "output_type": "stream",
     "text": [
      "True\n"
     ]
    }
   ],
   "source": [
    "#Example of NOT IN\n",
    "\n",
    "a = [1, 2, 3, 4, 5]\n",
    "result = 6 not in a  # result is True\n",
    "print(result)"
   ]
  },
  {
   "cell_type": "markdown",
   "id": "12f38e4d-b3c7-4491-b677-2ad207b0fd0d",
   "metadata": {},
   "source": [
    "### 7 >> Identity Operators - Identity operators are used to compare objects to see if they are the same object in memory."
   ]
  },
  {
   "cell_type": "raw",
   "id": "346deb8a-1b23-4afa-969d-d31e049cb867",
   "metadata": {},
   "source": [
    "> Is (is)"
   ]
  },
  {
   "cell_type": "code",
   "execution_count": 135,
   "id": "51f42d28-84b8-455f-beb2-8fc3aaa7fa40",
   "metadata": {},
   "outputs": [
    {
     "name": "stdout",
     "output_type": "stream",
     "text": [
      "True\n"
     ]
    }
   ],
   "source": [
    "#Example of IS\n",
    "\n",
    "a = [1, 2, 3]\n",
    "b = a\n",
    "result = a is b  # result is True (both refer to the same object)\n",
    "print(result)"
   ]
  },
  {
   "cell_type": "raw",
   "id": "8a81e653-73ac-4e58-b03d-92c5a60eba28",
   "metadata": {},
   "source": [
    "> Is Not (is not)"
   ]
  },
  {
   "cell_type": "code",
   "execution_count": 136,
   "id": "9ee685d6-2a01-4dd7-88e5-1db8e9b5593b",
   "metadata": {},
   "outputs": [
    {
     "name": "stdout",
     "output_type": "stream",
     "text": [
      "True\n"
     ]
    }
   ],
   "source": [
    "#Example of NOT IS\n",
    "\n",
    "a = [1, 2, 3]\n",
    "b = [1, 2, 3]\n",
    "result = a is not b  # result is True (different objects in memory)\n",
    "print(result)"
   ]
  },
  {
   "cell_type": "raw",
   "id": "f31513c3-23fc-4919-9688-73edcf348ea6",
   "metadata": {},
   "source": [
    ">> These operators form the foundation of Python programming, enabling developers to perform a wide range of operations efficiently."
   ]
  },
  {
   "cell_type": "markdown",
   "id": "34f6b37e-0671-4f0d-a1da-3aaab32059e5",
   "metadata": {},
   "source": [
    "# Question 5"
   ]
  },
  {
   "cell_type": "markdown",
   "id": "d69d75ad-e57c-4c1d-a679-f462f8fb102c",
   "metadata": {},
   "source": [
    "## Explain the concept of type casting in Python with examples."
   ]
  },
  {
   "cell_type": "raw",
   "id": "4521d2ac-af8e-4e50-b954-d184176c9bb9",
   "metadata": {},
   "source": [
    ">> Type casting in Python refers to the process of converting a value from one data type to another.\n",
    "\n",
    ">> Type casting is often necessaryfor performing arithematic operations,data manipulation and input/output operations in Python program.\n",
    "\n",
    ">> Python provides several built-in functions to perform type casting such as;\n",
    "\n",
    "1 > int(): Converts a value to an integer.\n",
    "\n",
    "2 > float(): Converts a value to a floating-point number.\n",
    "\n",
    "3 > str(): Converts a value to a string.\n",
    "\n",
    "4 > list(): Converts a value to a list.\n",
    "\n",
    "5 > tuple(): Converts a value to a tuple.\n",
    "\n",
    "6 > dict(): Converts a value to a dictionary."
   ]
  },
  {
   "cell_type": "markdown",
   "id": "dbfd908f-d93d-4639-ac5a-a3f415cf7565",
   "metadata": {},
   "source": [
    "### Examples of Type Casting"
   ]
  },
  {
   "cell_type": "code",
   "execution_count": 1,
   "id": "60cc3b14-5c07-4db7-9cfd-3e585870f7b4",
   "metadata": {},
   "outputs": [
    {
     "name": "stdout",
     "output_type": "stream",
     "text": [
      "10\n"
     ]
    }
   ],
   "source": [
    "# Example 1 - Casting a float to an integer\n",
    "\n",
    "float_value = 10.8\n",
    "int_value = int(float_value)\n",
    "print(int_value)  # Output: 10"
   ]
  },
  {
   "cell_type": "raw",
   "id": "c24ac13c-8aa1-4d35-95b6-7df1065ccb19",
   "metadata": {},
   "source": [
    ">> In the above example 1 of casting float to an integer the float_value is 10.8, and using int(float_value), it is converted to the integer 10. \n",
    "\n",
    ">> Note that type casting to int truncates the decimal part, it does not round the number."
   ]
  },
  {
   "cell_type": "code",
   "execution_count": 3,
   "id": "6736ee4a-7a14-461b-9fe8-32c5cc5fe8ed",
   "metadata": {},
   "outputs": [
    {
     "name": "stdout",
     "output_type": "stream",
     "text": [
      "5.0\n"
     ]
    }
   ],
   "source": [
    "# Example 2 - Casting an integer to a float\n",
    "\n",
    "int_value = 5\n",
    "float_value = float(int_value) # the integer 5 will be converted to the float 5.0\n",
    "print(float_value)  # Output: 5.0"
   ]
  },
  {
   "cell_type": "code",
   "execution_count": 4,
   "id": "6dfbefc8-99fe-47b0-8524-0a2cb38cff4c",
   "metadata": {},
   "outputs": [
    {
     "name": "stdout",
     "output_type": "stream",
     "text": [
      "123\n"
     ]
    }
   ],
   "source": [
    "# Example 3 - Casting a string to an integer\n",
    "\n",
    "str_value = \"123\"\n",
    "int_value = int(str_value)\n",
    "print(int_value)  # Output: 123"
   ]
  },
  {
   "cell_type": "raw",
   "id": "a2108788-aa68-4301-b76f-7360dea949a8",
   "metadata": {},
   "source": [
    ">> In the above example 3 of casting a string to an integer the string \"123\" is converted to the integer 123. This works as long as the string is a valid representation of an integer. If the string contains non-numeric characters, it will raise a ValueError."
   ]
  },
  {
   "cell_type": "code",
   "execution_count": 14,
   "id": "52848e0e-d85f-41e3-ac8c-2be3f5751c6d",
   "metadata": {},
   "outputs": [
    {
     "name": "stdout",
     "output_type": "stream",
     "text": [
      "100\n"
     ]
    }
   ],
   "source": [
    "# Example 4 - Casting an integer to a string\n",
    "\n",
    "int_value = 100\n",
    "str_value = str(int_value) # the integer 100 will be converted to the string \"100\"\n",
    "print(str_value)  # Output: \"100\""
   ]
  },
  {
   "cell_type": "code",
   "execution_count": 13,
   "id": "c6c11b82-1dfc-4559-abc6-06bc9fd30d46",
   "metadata": {},
   "outputs": [
    {
     "name": "stdout",
     "output_type": "stream",
     "text": [
      "(1, 2, 3)\n"
     ]
    }
   ],
   "source": [
    "# Example 5 - Casting a list to a tuple\n",
    "\n",
    "list_value = [1, 2, 3]\n",
    "tuple_value = tuple(list_value) # The list [1, 2, 3] will be converted to the tuple (1, 2, 3)\n",
    "print(tuple_value)  # Output: (1, 2, 3)"
   ]
  },
  {
   "cell_type": "code",
   "execution_count": 12,
   "id": "d8dc496b-d208-4237-aedb-bdec3e30fc6d",
   "metadata": {},
   "outputs": [
    {
     "name": "stdout",
     "output_type": "stream",
     "text": [
      "{'key1': 'value1', 'key2': 'value2'}\n"
     ]
    }
   ],
   "source": [
    "# Example 6 - Casting a list of key-value pairs to a dictionary\n",
    "\n",
    "list_of_tuples = [(\"key1\", \"value1\"), (\"key2\", \"value2\")]\n",
    "dict_value = dict(list_of_tuples) # A list of key-value pairs (tuples) will be converted to a dictionary\n",
    "print(dict_value)  # Output: {'key1': 'value1', 'key2': 'value2'}"
   ]
  },
  {
   "cell_type": "markdown",
   "id": "6aa1fd02-3f2f-490b-9168-50b5719a97d5",
   "metadata": {},
   "source": [
    "### Important Points"
   ]
  },
  {
   "cell_type": "raw",
   "id": "f89c8718-38c3-4289-946a-93403b31770a",
   "metadata": {},
   "source": [
    ">> Type casting can be implicit (automatic) or explicit (manual).\n",
    "\n",
    ">> The examples above demonstrate explicit type casting.\n",
    "\n",
    ">> Implicit type casting occurs when Python automatically converts a value to a compatible type, such as when adding an integer to a float as shown in below example 7."
   ]
  },
  {
   "cell_type": "code",
   "execution_count": 15,
   "id": "2e848cd2-46f9-4009-80cb-3bf066d230f0",
   "metadata": {},
   "outputs": [
    {
     "name": "stdout",
     "output_type": "stream",
     "text": [
      "8.0\n"
     ]
    }
   ],
   "source": [
    "# Example 7\n",
    "\n",
    "result = 5 + 3.0\n",
    "print(result)  # Output: 8.0"
   ]
  },
  {
   "cell_type": "raw",
   "id": "3f77192e-95e1-4022-b618-7622a5bf44f7",
   "metadata": {},
   "source": [
    ">> In the above example 7,the integer 5 is implicitly converted to 5.0 to match the type of 3.0.\n",
    "\n",
    ">> Type casting is a powerful tool in Python, enabling developers to work with different data types seamlessly in their code."
   ]
  },
  {
   "cell_type": "markdown",
   "id": "f35b328d-ba5c-49de-9c77-f5375b0aaf9f",
   "metadata": {},
   "source": [
    "# Question 6"
   ]
  },
  {
   "cell_type": "markdown",
   "id": "7db4608c-db55-42ab-b91e-53e7f31e02fb",
   "metadata": {},
   "source": [
    "## How do conditional statements work in Python? Illustrate with examples."
   ]
  },
  {
   "cell_type": "raw",
   "id": "67a144a5-bd86-4423-9725-cd21133b0be5",
   "metadata": {},
   "source": [
    ">> In Python,conditional statements are used to execute code based on the evaluation of one or more conditions.\n",
    "\n",
    ">> The most common conditional statements in Python are 'if', 'elif' (elseif), and 'else'.\n",
    "\n",
    ">> Conditinal statements can be nested to handle multiple conditions and control different branches of execution based on the outcome of logical expressions."
   ]
  },
  {
   "cell_type": "markdown",
   "id": "de829f2d-2728-42c5-b9ed-025b6191b79f",
   "metadata": {},
   "source": [
    "### 1 >> 'if' Statement\n"
   ]
  },
  {
   "cell_type": "raw",
   "id": "904baef9-f556-4c26-b8a1-efa2afab7a68",
   "metadata": {},
   "source": [
    ">> The 'if' statement checks a condition and if the condition is True, the code block under the 'if' statement is executed."
   ]
  },
  {
   "cell_type": "markdown",
   "id": "1b1de1a9-b08e-4b3c-a657-f1edd03a3495",
   "metadata": {},
   "source": [
    "#### Syntax of 'if' statement"
   ]
  },
  {
   "cell_type": "raw",
   "id": "baa42fdc-0452-4a57-abee-4300c4e1534e",
   "metadata": {},
   "source": [
    "if condition:  # code block to be executed if the condition is True"
   ]
  },
  {
   "cell_type": "code",
   "execution_count": 22,
   "id": "101c2a2e-c3dc-422c-a852-48995c44b860",
   "metadata": {},
   "outputs": [
    {
     "name": "stdout",
     "output_type": "stream",
     "text": [
      "x is greater than 5\n"
     ]
    }
   ],
   "source": [
    "# Example of 'if' statement\n",
    "\n",
    "x = 10\n",
    "if x > 5:\n",
    "    print(\"x is greater than 5\") # Output : x is greater than 5"
   ]
  },
  {
   "cell_type": "markdown",
   "id": "91b54aae-d7f1-4032-979d-086243f13691",
   "metadata": {},
   "source": [
    "### 2 >> 'elif' Statement"
   ]
  },
  {
   "cell_type": "raw",
   "id": "a77a94cb-d24e-41ad-abed-f0fa9006c050",
   "metadata": {},
   "source": [
    ">> The 'elif' (\"else if\") statement checks another condition if the previous 'if' condition was False.\n",
    "\n",
    ">> You can have multiple elif statements."
   ]
  },
  {
   "cell_type": "markdown",
   "id": "867089a0-7d59-406e-b243-cec247a72811",
   "metadata": {},
   "source": [
    "#### Syntax of 'elif' statement"
   ]
  },
  {
   "cell_type": "raw",
   "id": "7f165f3c-da75-40b2-b276-75c2be289e25",
   "metadata": {},
   "source": [
    "if condition1:   # code block executed if condition1 is True\n",
    "elif condition2: # code block executed if condition1 is False and condition2 is True"
   ]
  },
  {
   "cell_type": "code",
   "execution_count": 25,
   "id": "fb7dd58c-a5da-48b0-a7de-1a8e7d117e8e",
   "metadata": {},
   "outputs": [
    {
     "name": "stdout",
     "output_type": "stream",
     "text": [
      "x is greater than 5 but less than or equal to 15\n"
     ]
    }
   ],
   "source": [
    "# Example of 'elif' statement\n",
    "\n",
    "x = 10\n",
    "if x > 15:\n",
    "    print(\"x is greater than 15\")\n",
    "elif x > 5:\n",
    "    print(\"x is greater than 5 but less than or equal to 15\") # Output : x is greater than 5 but less than or equal to 15"
   ]
  },
  {
   "cell_type": "markdown",
   "id": "d099de43-c44f-475e-8f2f-cd2f6be0c97e",
   "metadata": {},
   "source": [
    "### 3 >> 'else' Statement"
   ]
  },
  {
   "cell_type": "raw",
   "id": "13995c07-5739-4cde-abcf-864f4f788be1",
   "metadata": {},
   "source": [
    ">> The else statement is the fallback. It executes if none of the preceding conditions are True."
   ]
  },
  {
   "cell_type": "markdown",
   "id": "b5443c2c-97ed-47c4-87df-8a33c588b919",
   "metadata": {},
   "source": [
    "#### Syntax of 'else' statement"
   ]
  },
  {
   "cell_type": "raw",
   "id": "6e7dd0c5-3db9-4d97-b014-cd16280e59ea",
   "metadata": {},
   "source": [
    "if condition1:   # code block executed if condition1 is True\n",
    "elif condition2: # code block executed if condition1 is False and condition2 is True\n",
    "else:            # code block executed if none of the above conditions are True"
   ]
  },
  {
   "cell_type": "code",
   "execution_count": 27,
   "id": "83445fc8-1175-4d4d-96ea-502e4623fce7",
   "metadata": {},
   "outputs": [
    {
     "name": "stdout",
     "output_type": "stream",
     "text": [
      "x is 5 or less\n"
     ]
    }
   ],
   "source": [
    "# Example of 'else' statement\n",
    "\n",
    "x = 3\n",
    "if x > 10:\n",
    "    print(\"x is greater than 10\")\n",
    "elif x > 5:\n",
    "    print(\"x is greater than 5 but less than or equal to 10\")\n",
    "else:\n",
    "    print(\"x is 5 or less\") # Output : x is 5 or less"
   ]
  },
  {
   "cell_type": "markdown",
   "id": "244ec68d-e6cd-43fd-8e67-c20203e462b2",
   "metadata": {},
   "source": [
    "### 4 >> Nested 'if' Statement"
   ]
  },
  {
   "cell_type": "raw",
   "id": "bcc11bd1-fc18-43d1-8afb-a1c818b303da",
   "metadata": {},
   "source": [
    ">> You can also nest if statements within each other, allowing for more complex conditions."
   ]
  },
  {
   "cell_type": "code",
   "execution_count": 29,
   "id": "413170e6-bb25-4d4d-910b-ade018d0d802",
   "metadata": {},
   "outputs": [
    {
     "name": "stdout",
     "output_type": "stream",
     "text": [
      "x is greater than 5 and y is greater than 3\n"
     ]
    }
   ],
   "source": [
    "# Example of Nested 'if' statement\n",
    "\n",
    "x = 8\n",
    "y = 4\n",
    "\n",
    "if x > 5:\n",
    "    if y > 3:\n",
    "        print(\"x is greater than 5 and y is greater than 3\")\n",
    "    else:\n",
    "        print(\"x is greater than 5 but y is 3 or less\")\n",
    "else:\n",
    "    print(\"x is 5 or less\") #Output : x is greater than 5 and y is greater than 3"
   ]
  },
  {
   "cell_type": "raw",
   "id": "fb126759-8835-40a5-9429-0ea5ef531f95",
   "metadata": {},
   "source": [
    ">> In the above example of Nested 'if' statement ,the if inside another if creates a nested structure.\n",
    "\n",
    ">> The code first checks if x > 5, and then, within that block, it checks whether y > 3."
   ]
  },
  {
   "cell_type": "markdown",
   "id": "468d40e7-9e68-4f35-8d65-df56a9cd0d8c",
   "metadata": {},
   "source": [
    "# Question 7"
   ]
  },
  {
   "cell_type": "markdown",
   "id": "aea0fc57-4ed7-4f84-ae61-67245252593f",
   "metadata": {},
   "source": [
    "## Describe the different types of loops in Python and their use cases with examples."
   ]
  },
  {
   "cell_type": "raw",
   "id": "fdcefe9c-d726-4407-93ff-faf2400f5a56",
   "metadata": {},
   "source": [
    ">> In Python,loops allow to repeat a sequence of actions or code until a specific condition is fulfilled.\n",
    "\n",
    ">> The primary types of loops in Python are 'for' loops, 'while' loops, and 'nested' loops. Each type has its use cases and characteristics."
   ]
  },
  {
   "cell_type": "markdown",
   "id": "9fe3819f-672d-44a9-8f14-dc169d6765c2",
   "metadata": {},
   "source": [
    "### 1 >> 'for' loop"
   ]
  },
  {
   "cell_type": "markdown",
   "id": "0cc97c2d-3cd6-4aae-99c0-9da9d6c1f8d4",
   "metadata": {},
   "source": [
    "#### Defination"
   ]
  },
  {
   "cell_type": "raw",
   "id": "47a433cc-c822-4db0-9a52-d33ecd81faed",
   "metadata": {},
   "source": [
    ">> 'for' loops are used for iterating over a sequence of elements.\n",
    "\n",
    ">> It repeats the block of code for each time in the sequence."
   ]
  },
  {
   "cell_type": "markdown",
   "id": "6f9eb1ae-0cdb-4257-b6e8-83aa1d164687",
   "metadata": {},
   "source": [
    "#### Use case"
   ]
  },
  {
   "cell_type": "raw",
   "id": "a19bb6fa-833e-4d4d-bf2c-e77c20cf2f8c",
   "metadata": {},
   "source": [
    ">> Iterating over elements of a list, tuple, or string.\n",
    "\n",
    ">> Repeating a block of code a specific number of times.\n",
    "\n",
    ">> Iterating through keys and values of a dictionary."
   ]
  },
  {
   "cell_type": "markdown",
   "id": "54ee368f-ae3b-483d-b2f6-457ecf7002af",
   "metadata": {},
   "source": [
    "#### Example"
   ]
  },
  {
   "cell_type": "code",
   "execution_count": 5,
   "id": "141e8370-2a27-46f0-8455-557bd5bd127c",
   "metadata": {},
   "outputs": [
    {
     "name": "stdout",
     "output_type": "stream",
     "text": [
      "apple\n",
      "banana\n",
      "cherry\n"
     ]
    }
   ],
   "source": [
    "# Example 1 - Iterating over a list\n",
    "\n",
    "fruits = [\"apple\", \"banana\", \"cherry\"]\n",
    "for fruit in fruits:\n",
    "    print(fruit)"
   ]
  },
  {
   "cell_type": "code",
   "execution_count": 4,
   "id": "0c23fc4e-d879-4f1d-bf0d-8b1777aa3940",
   "metadata": {},
   "outputs": [
    {
     "name": "stdout",
     "output_type": "stream",
     "text": [
      "0\n",
      "1\n",
      "2\n"
     ]
    }
   ],
   "source": [
    "# Example 2 -  Using range() to iterate a specific number of times\n",
    "\n",
    "for i in range(3):\n",
    "    print(i)"
   ]
  },
  {
   "cell_type": "markdown",
   "id": "ab6d0265-7253-4be3-b64b-39508b21dd6e",
   "metadata": {},
   "source": [
    "### 2 >> 'While' loop"
   ]
  },
  {
   "cell_type": "markdown",
   "id": "83f8b7a3-b492-4563-9f41-e41c7bf8d869",
   "metadata": {},
   "source": [
    "#### Defination"
   ]
  },
  {
   "cell_type": "raw",
   "id": "a98aa9ac-120f-4c90-8ed7-3e4d55568068",
   "metadata": {},
   "source": [
    ">> The while loop repeatedly executes a block of code as long as a specified condition is True. \n",
    "\n",
    ">> The condition is checked before each iteration, and if it becomes False, the loop stops."
   ]
  },
  {
   "cell_type": "markdown",
   "id": "df5382bd-fc2f-422b-ae57-7b8a579e520b",
   "metadata": {},
   "source": [
    "#### Use case"
   ]
  },
  {
   "cell_type": "raw",
   "id": "dc00aa19-ee3e-4d35-9898-16b0328657f4",
   "metadata": {},
   "source": [
    ">> When the number of iterations is not known in advance.\n",
    "\n",
    ">> Repeating a block of code until a specific condition is met.\n",
    "\n",
    ">> Implementing infinite loops (which can be broken with break)."
   ]
  },
  {
   "cell_type": "markdown",
   "id": "36185360-246c-43a8-9a69-e02c840d01ec",
   "metadata": {},
   "source": [
    "#### Example"
   ]
  },
  {
   "cell_type": "code",
   "execution_count": 6,
   "id": "c0b86256-86b9-40af-a6e8-8fce7e68fd7c",
   "metadata": {},
   "outputs": [
    {
     "name": "stdout",
     "output_type": "stream",
     "text": [
      "0\n",
      "1\n",
      "2\n"
     ]
    }
   ],
   "source": [
    "# Example 1 - Basic while loop\n",
    "\n",
    "count = 0\n",
    "while count < 3:\n",
    "    print(count)\n",
    "    count += 1"
   ]
  },
  {
   "cell_type": "code",
   "execution_count": 3,
   "id": "dfbac66e-950c-4676-ad2e-77c58983a2fe",
   "metadata": {},
   "outputs": [
    {
     "name": "stdin",
     "output_type": "stream",
     "text": [
      "Enter a number greater than 10:  5\n",
      "Enter a number greater than 10:  4\n",
      "Enter a number greater than 10:  2\n",
      "Enter a number greater than 10:  12\n"
     ]
    },
    {
     "name": "stdout",
     "output_type": "stream",
     "text": [
      "Thank you!\n"
     ]
    }
   ],
   "source": [
    "# Example 2 - while loop with a condition\n",
    "\n",
    "number = 0\n",
    "while number < 10:\n",
    "    number = int(input(\"Enter a number greater than 10: \"))\n",
    "print(\"Thank you!\")"
   ]
  },
  {
   "cell_type": "markdown",
   "id": "6701f560-4aed-4965-913c-3511ee6c7835",
   "metadata": {},
   "source": [
    "### 3 >> Nested Loops"
   ]
  },
  {
   "cell_type": "markdown",
   "id": "7ca7e445-cca8-4277-97a3-b013a3d656a4",
   "metadata": {},
   "source": [
    "#### Defination"
   ]
  },
  {
   "cell_type": "raw",
   "id": "be35038f-a6d2-40a7-ab1b-56c305a73095",
   "metadata": {},
   "source": [
    ">> A nested loop is a loop inside another loop.\n",
    "\n",
    ">> The inner loop runs completely every time the outer loop runs once."
   ]
  },
  {
   "cell_type": "markdown",
   "id": "48d70dec-48bd-434b-8ede-7b4ba95c8c20",
   "metadata": {},
   "source": [
    "#### Use case"
   ]
  },
  {
   "cell_type": "raw",
   "id": "dadab20f-7da9-4ac8-bc84-b26a25fb4fc1",
   "metadata": {},
   "source": [
    ">> Iterating over multi-dimensional data structures like lists of lists.\n",
    "\n",
    ">> Performing complex repetitive tasks that require multiple levels of iteration."
   ]
  },
  {
   "cell_type": "markdown",
   "id": "3a8b302e-9169-426b-ae85-4128f39717ac",
   "metadata": {},
   "source": [
    "#### Example"
   ]
  },
  {
   "cell_type": "code",
   "execution_count": 4,
   "id": "4b4f720c-0691-4949-9675-1f9a4b232db2",
   "metadata": {},
   "outputs": [
    {
     "name": "stdout",
     "output_type": "stream",
     "text": [
      "* * * \n",
      "* * * \n",
      "* * * \n"
     ]
    }
   ],
   "source": [
    "# Example - Nested for loop\n",
    "\n",
    "for i in range(3):\n",
    "    for j in range(3):\n",
    "        print(\"*\",end = \" \")\n",
    "    print()"
   ]
  },
  {
   "cell_type": "markdown",
   "id": "b3b08ab3-df35-4636-908e-5bfd40802e4c",
   "metadata": {},
   "source": [
    "### 4 >> Loop control statements"
   ]
  },
  {
   "cell_type": "raw",
   "id": "6dc30a1f-6daf-4894-85e2-c2a70b54202b",
   "metadata": {},
   "source": [
    ">> Python provides several control statements to manage the flow of loops:\n",
    "\n",
    "> break: Exits the loop immediately when a certain condition is met.\n",
    "\n",
    "> continue: Skips the rest of the code inside the loop for the current iteration and moves to the next iteration.\n",
    "\n",
    "> else: Can be used with 'for' and 'while' loops. The 'else' block runs if the loop completes normally."
   ]
  },
  {
   "cell_type": "markdown",
   "id": "44c17e6d-dde0-4dfe-b1de-50167a85dfe9",
   "metadata": {},
   "source": [
    "#### Example"
   ]
  },
  {
   "cell_type": "code",
   "execution_count": 9,
   "id": "298203ba-0aa8-4c0b-b652-8344c77e68cb",
   "metadata": {},
   "outputs": [
    {
     "name": "stdout",
     "output_type": "stream",
     "text": [
      "0\n",
      "1\n",
      "2\n"
     ]
    }
   ],
   "source": [
    "# break example\n",
    "\n",
    "for i in range(5):\n",
    "    if i == 3: \n",
    "        break  # break and exits the loop when 'i' is equal to 3.\n",
    "    print(i)"
   ]
  },
  {
   "cell_type": "code",
   "execution_count": 10,
   "id": "a2f2c031-8e84-498f-b79c-1142918f295c",
   "metadata": {},
   "outputs": [
    {
     "name": "stdout",
     "output_type": "stream",
     "text": [
      "0\n",
      "1\n",
      "2\n",
      "4\n"
     ]
    }
   ],
   "source": [
    "# continue example\n",
    "for i in range(5):\n",
    "    if i == 3:\n",
    "        continue # Skips the current iteration in the loop when 'i' is equal to 3 and moves to next iteration.\n",
    "    print(i)"
   ]
  },
  {
   "cell_type": "code",
   "execution_count": 12,
   "id": "9df42ec6-ea10-4d1d-943d-756b27963a15",
   "metadata": {},
   "outputs": [
    {
     "name": "stdout",
     "output_type": "stream",
     "text": [
      "0\n",
      "1\n",
      "2\n",
      "3\n",
      "4\n",
      "Loop completed without break.\n"
     ]
    }
   ],
   "source": [
    "# else with loop\n",
    "\n",
    "for i in range(5):\n",
    "    print(i)\n",
    "else:\n",
    "    print(\"Loop completed without break.\")"
   ]
  },
  {
   "cell_type": "code",
   "execution_count": null,
   "id": "5a3add1b-2793-45e3-b265-2e0d1c5183a7",
   "metadata": {},
   "outputs": [],
   "source": []
  }
 ],
 "metadata": {
  "kernelspec": {
   "display_name": "Python 3 (ipykernel)",
   "language": "python",
   "name": "python3"
  },
  "language_info": {
   "codemirror_mode": {
    "name": "ipython",
    "version": 3
   },
   "file_extension": ".py",
   "mimetype": "text/x-python",
   "name": "python",
   "nbconvert_exporter": "python",
   "pygments_lexer": "ipython3",
   "version": "3.10.8"
  }
 },
 "nbformat": 4,
 "nbformat_minor": 5
}
